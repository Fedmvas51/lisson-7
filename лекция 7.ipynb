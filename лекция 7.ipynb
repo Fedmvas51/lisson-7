{
 "cells": [
  {
   "cell_type": "markdown",
   "id": "1857ccac-6c3b-4fa2-8a75-da562a1c2f10",
   "metadata": {},
   "source": [
    "# Задание 1"
   ]
  },
  {
   "cell_type": "code",
   "execution_count": 7,
   "id": "8312efec-15c0-4a46-8d31-8b51130a3a5f",
   "metadata": {},
   "outputs": [
    {
     "name": "stdout",
     "output_type": "stream",
     "text": [
      "Изображение сохранено как processed_image_opencv.png с заменой прозрачных пикселей на белые.\n"
     ]
    }
   ],
   "source": [
    "import cv2\n",
    "import numpy as np\n",
    "\n",
    "def load_and_process_image_opencv(input_path, output_path):\n",
    "    img = cv2.imread(input_path, cv2.IMREAD_UNCHANGED)\n",
    "    if img is None:\n",
    "        print(\"Ошибка при загрузке изображения.\")\n",
    "        return\n",
    "    if img.shape[2] == 4:\n",
    "        alpha_channel = img[:, :, 3]\n",
    "        img[alpha_channel == 0] = [255, 255, 255, 255] \n",
    "        cv2.imwrite(output_path, img)\n",
    "        print(f\"Изображение сохранено как {output_path} с заменой прозрачных пикселей на белые.\")\n",
    "    \n",
    "if __name__ == \"__main__\":\n",
    "    load_and_process_image_opencv(\"img1.png\", \"processed_image_opencv.png\")"
   ]
  },
  {
   "cell_type": "markdown",
   "id": "f1223428-b3aa-452a-a6dd-11d48c571345",
   "metadata": {},
   "source": [
    "# Задание 4"
   ]
  },
  {
   "cell_type": "code",
   "execution_count": 9,
   "id": "ff6e60c3-75bd-40cc-bfad-d4c42c1320e7",
   "metadata": {},
   "outputs": [
    {
     "name": "stdout",
     "output_type": "stream",
     "text": [
      "Пост с ID 1 имеет максимальное количество комментариев: 5\n"
     ]
    }
   ],
   "source": [
    "import requests\n",
    "from collections import defaultdict\n",
    "url = \"https://jsonplaceholder.typicode.com/comments\"\n",
    "res = requests.get(url)\n",
    "if res.status_code == 200:\n",
    "    comments = res.json()  \n",
    " \n",
    "    post_comment_count = defaultdict(int)    \n",
    "    for comment in comments:\n",
    "        post_id = comment['postId']\n",
    "        post_comment_count[post_id] += 1    \n",
    "    max_post_id = max(post_comment_count, key=post_comment_count.get)\n",
    "    max_comments_count = post_comment_count[max_post_id]\n",
    "    print(f\"Пост с ID {max_post_id} имеет максимальное количество комментариев: {max_comments_count}\")\n",
    "else:\n",
    "    print(f\"Ошибка при получении данных: {response.status_code}\")"
   ]
  },
  {
   "cell_type": "markdown",
   "id": "abadc469-9679-445c-bdbc-ad82f657966a",
   "metadata": {},
   "source": [
    "# Задание 3"
   ]
  },
  {
   "cell_type": "code",
   "execution_count": null,
   "id": "5d342453-27e1-4fd4-93bc-c20e00513466",
   "metadata": {},
   "outputs": [],
   "source": []
  }
 ],
 "metadata": {
  "kernelspec": {
   "display_name": "Python 3 (ipykernel)",
   "language": "python",
   "name": "python3"
  },
  "language_info": {
   "codemirror_mode": {
    "name": "ipython",
    "version": 3
   },
   "file_extension": ".py",
   "mimetype": "text/x-python",
   "name": "python",
   "nbconvert_exporter": "python",
   "pygments_lexer": "ipython3",
   "version": "3.12.4"
  }
 },
 "nbformat": 4,
 "nbformat_minor": 5
}
